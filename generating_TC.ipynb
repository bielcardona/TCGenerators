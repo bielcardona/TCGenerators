{
 "cells": [
  {
   "cell_type": "code",
   "execution_count": 31,
   "metadata": {},
   "outputs": [],
   "source": [
    "import phylonetwork\n",
    "import matplotlib\n",
    "import networkx\n",
    "import pygraphviz\n",
    "%matplotlib inline\n",
    "from itertools import product, permutations"
   ]
  },
  {
   "cell_type": "code",
   "execution_count": 32,
   "metadata": {},
   "outputs": [],
   "source": [
    "from networkx.drawing.nx_agraph import graphviz_layout"
   ]
  },
  {
   "cell_type": "code",
   "execution_count": 33,
   "metadata": {},
   "outputs": [],
   "source": [
    "def split(net,u):\n",
    "    utilde = net._generate_new_id()\n",
    "    for e in net.in_edges(u):\n",
    "        net.add_edge(e[0],utilde)\n",
    "        net.remove_edge(e[0],u)\n",
    "    net.add_edge(utilde,u)\n",
    "    return utilde"
   ]
  },
  {
   "cell_type": "code",
   "execution_count": 34,
   "metadata": {},
   "outputs": [],
   "source": [
    "def augmentation_T(net,ell,wt,vts):\n",
    "    netb = net.copy()\n",
    "    netb.cache = {}\n",
    "    r = len(vts) + 1\n",
    "    us = [netb._generate_new_id() for _ in range(r)]\n",
    "    netb.add_path(us)\n",
    "    netb._labels[us[-1]]=ell\n",
    "    w = split(netb,wt)\n",
    "    netb.add_edge(w,us[0])\n",
    "    for i in range(r-1):\n",
    "        u = us[i]\n",
    "        v = split(netb,vts[i])\n",
    "        netb.add_edge(u,v)\n",
    "    if networkx.is_directed_acyclic_graph(netb):\n",
    "        return netb\n",
    "    else:\n",
    "        return None"
   ]
  },
  {
   "cell_type": "code",
   "execution_count": 120,
   "metadata": {},
   "outputs": [],
   "source": [
    "def augmentation_H(net,ell,wt1,wt2,vts):\n",
    "    netb = net.copy()\n",
    "    netb.cache = {}\n",
    "    rt = len(vts)+2\n",
    "    us = [netb._generate_new_id() for _ in range(rt)]\n",
    "    netb.add_path(us)\n",
    "    netb._labels[us[-1]]=ell\n",
    "    w1 = split(netb,wt1)\n",
    "    netb.add_edge(w1,us[0])\n",
    "    w2 = split(netb,wt2)\n",
    "    netb.add_edge(w2,us[0])\n",
    "    for i in range(1,rt-1):\n",
    "        u = us[i]\n",
    "        v = split(netb,vts[i-1])\n",
    "        netb.add_edge(u,v)\n",
    "    if networkx.is_directed_acyclic_graph(netb):\n",
    "        return netb\n",
    "    else:\n",
    "        return None"
   ]
  },
  {
   "cell_type": "code",
   "execution_count": 161,
   "metadata": {},
   "outputs": [],
   "source": [
    "def find_augmentations(net,ell):\n",
    "    nets = []\n",
    "    nodes = net.nodes()\n",
    "    tree_nodes = [u for u in nodes if net.is_tree_node(u)]\n",
    "    num_tree_nodes = len(tree_nodes)\n",
    "    for r in range(num_tree_nodes+1):\n",
    "        for (wt,vts) in product(tree_nodes,permutations(tree_nodes,r)):\n",
    "            netb = augmentation_T(net,ell,wt,vts)\n",
    "            if netb:\n",
    "                # print(wt,vts)\n",
    "                nets.append(netb)\n",
    "        for wv in permutations(tree_nodes,r+2):\n",
    "            w1t = wv[0]\n",
    "            w2t = wv[1]\n",
    "            if w1t > w2t: continue\n",
    "            vts = wv[2:]\n",
    "            netb = augmentation_H(net,ell,w1t,w2t,vts)\n",
    "            if netb:\n",
    "                # print(w1t,w2t,vts)\n",
    "                nets.append(netb)\n",
    "        for wv in permutations(tree_nodes,r+1):\n",
    "            w1t = wv[0]\n",
    "            w2t = wv[0]\n",
    "            vts = wv[1:]\n",
    "            netb = augmentation_H(net,ell,w1t,w2t,vts)\n",
    "            if netb:\n",
    "                # print(w1t,w2t,vts)\n",
    "                nets.append(netb)\n",
    "    return nets"
   ]
  },
  {
   "cell_type": "code",
   "execution_count": 159,
   "metadata": {},
   "outputs": [],
   "source": [
    "def find_networks(taxa):\n",
    "    if len(taxa)==1:\n",
    "        return [phylonetwork.PhyloNetwork(eNewick=taxa[0]+';')]\n",
    "    nets = []\n",
    "    for net in find_networks(taxa[:-1]):\n",
    "        nets.extend(find_augmentations(net,taxa[-1]))\n",
    "        print(len(nets))\n",
    "    return nets"
   ]
  },
  {
   "cell_type": "code",
   "execution_count": 130,
   "metadata": {},
   "outputs": [],
   "source": [
    "def draw(net):\n",
    "    pos = graphviz_layout(net,prog='dot')\n",
    "    networkx.draw_networkx(net,pos,labels=net._labels)"
   ]
  },
  {
   "cell_type": "code",
   "execution_count": 103,
   "metadata": {},
   "outputs": [],
   "source": [
    "t = phylonetwork.PhyloNetwork(eNewick=\"(1,2);\")"
   ]
  },
  {
   "cell_type": "code",
   "execution_count": null,
   "metadata": {},
   "outputs": [],
   "source": []
  },
  {
   "cell_type": "code",
   "execution_count": 77,
   "metadata": {},
   "outputs": [
    {
     "name": "stdout",
     "output_type": "stream",
     "text": [
      "_1 ()\n",
      "_2 ()\n",
      "_3 ()\n",
      "_1 _2 ()\n",
      "_1 _3 ()\n",
      "_2 _1 ()\n",
      "_2 _3 ()\n",
      "_3 _1 ()\n",
      "_3 _2 ()\n",
      "_1 ('_1',)\n",
      "_1 ('_2',)\n",
      "_1 ('_3',)\n",
      "_2 ('_2',)\n",
      "_2 ('_3',)\n",
      "_3 ('_2',)\n",
      "_3 ('_3',)\n",
      "_1 _2 ('_3',)\n",
      "_1 _3 ('_2',)\n",
      "_2 _1 ('_3',)\n",
      "_2 _3 ('_1',)\n",
      "_3 _1 ('_2',)\n",
      "_3 _2 ('_1',)\n",
      "_1 ('_1', '_2')\n",
      "_1 ('_1', '_3')\n",
      "_1 ('_2', '_1')\n",
      "_1 ('_2', '_3')\n",
      "_1 ('_3', '_1')\n",
      "_1 ('_3', '_2')\n",
      "_2 ('_2', '_3')\n",
      "_2 ('_3', '_2')\n",
      "_3 ('_2', '_3')\n",
      "_3 ('_3', '_2')\n"
     ]
    }
   ],
   "source": [
    "t3 = find_augmentations(t,'3')"
   ]
  },
  {
   "cell_type": "code",
   "execution_count": 73,
   "metadata": {},
   "outputs": [
    {
     "ename": "IndexError",
     "evalue": "list index out of range",
     "output_type": "error",
     "traceback": [
      "\u001b[0;31m---------------------------------------------------------------------------\u001b[0m",
      "\u001b[0;31mIndexError\u001b[0m                                Traceback (most recent call last)",
      "\u001b[0;32m<ipython-input-73-99c1ea5abb19>\u001b[0m in \u001b[0;36m<module>\u001b[0;34m\u001b[0m\n\u001b[0;32m----> 1\u001b[0;31m \u001b[0mdraw\u001b[0m\u001b[0;34m(\u001b[0m\u001b[0mt3\u001b[0m\u001b[0;34m[\u001b[0m\u001b[0;36m20\u001b[0m\u001b[0;34m]\u001b[0m\u001b[0;34m)\u001b[0m\u001b[0;34m\u001b[0m\u001b[0;34m\u001b[0m\u001b[0m\n\u001b[0m",
      "\u001b[0;31mIndexError\u001b[0m: list index out of range"
     ]
    }
   ],
   "source": [
    "draw(t3[20])"
   ]
  },
  {
   "cell_type": "code",
   "execution_count": 104,
   "metadata": {},
   "outputs": [],
   "source": [
    "t1=phylonetwork.PhyloNetwork(eNewick='1;')"
   ]
  },
  {
   "cell_type": "code",
   "execution_count": 105,
   "metadata": {},
   "outputs": [
    {
     "data": {
      "image/png": "[encoded data removed]",
      "text/plain": [
       "<matplotlib.figure.Figure at 0x11fdac278>"
      ]
     },
     "metadata": {
      "needs_background": "light"
     },
     "output_type": "display_data"
    }
   ],
   "source": [
    "draw(t1)"
   ]
  },
  {
   "cell_type": "code",
   "execution_count": 106,
   "metadata": {},
   "outputs": [
    {
     "name": "stdout",
     "output_type": "stream",
     "text": [
      "_1 ()\n",
      "_1 _1 ()\n",
      "_1 ('_1',)\n"
     ]
    }
   ],
   "source": [
    "t2=find_augmentations(t1,'2')"
   ]
  },
  {
   "cell_type": "code",
   "execution_count": 107,
   "metadata": {},
   "outputs": [
    {
     "data": {
      "image/png": "[encoded data removed]",
      "text/plain": [
       "<matplotlib.figure.Figure at 0x11fdd4470>"
      ]
     },
     "metadata": {
      "needs_background": "light"
     },
     "output_type": "display_data"
    }
   ],
   "source": [
    "draw(t2[1])"
   ]
  },
  {
   "cell_type": "code",
   "execution_count": 88,
   "metadata": {},
   "outputs": [
    {
     "name": "stderr",
     "output_type": "stream",
     "text": [
      "/Users/cardona/.local/share/virtualenvs/scripts-z_yBTKWJ/lib/python3.7/site-packages/networkx/drawing/nx_pylab.py:522: MatplotlibDeprecationWarning: The is_string_like function was deprecated in version 2.1.\n",
      "  if not cb.is_string_like(edge_color) \\\n",
      "/Users/cardona/.local/share/virtualenvs/scripts-z_yBTKWJ/lib/python3.7/site-packages/networkx/drawing/nx_pylab.py:543: MatplotlibDeprecationWarning: The is_string_like function was deprecated in version 2.1.\n",
      "  if cb.is_string_like(edge_color) or len(edge_color) == 1:\n",
      "/Users/cardona/.local/share/virtualenvs/scripts-z_yBTKWJ/lib/python3.7/site-packages/networkx/drawing/nx_pylab.py:724: MatplotlibDeprecationWarning: The is_string_like function was deprecated in version 2.1.\n",
      "  if not cb.is_string_like(label):\n"
     ]
    },
    {
     "data": {
      "image/png": "[encoded data removed]",
      "text/plain": [
       "<matplotlib.figure.Figure at 0x11fb18f60>"
      ]
     },
     "metadata": {
      "needs_background": "light"
     },
     "output_type": "display_data"
    }
   ],
   "source": [
    "draw(augmentation_T(t1,'2','_1',['_1']))"
   ]
  },
  {
   "cell_type": "code",
   "execution_count": 97,
   "metadata": {},
   "outputs": [
    {
     "data": {
      "text/plain": [
       "Phylogenetic Network with taxa [1,2]."
      ]
     },
     "execution_count": 97,
     "metadata": {},
     "output_type": "execute_result"
    }
   ],
   "source": [
    "t"
   ]
  },
  {
   "cell_type": "code",
   "execution_count": 99,
   "metadata": {},
   "outputs": [
    {
     "name": "stderr",
     "output_type": "stream",
     "text": [
      "/Users/cardona/.local/share/virtualenvs/scripts-z_yBTKWJ/lib/python3.7/site-packages/networkx/drawing/nx_pylab.py:522: MatplotlibDeprecationWarning: The is_string_like function was deprecated in version 2.1.\n",
      "  if not cb.is_string_like(edge_color) \\\n",
      "/Users/cardona/.local/share/virtualenvs/scripts-z_yBTKWJ/lib/python3.7/site-packages/networkx/drawing/nx_pylab.py:543: MatplotlibDeprecationWarning: The is_string_like function was deprecated in version 2.1.\n",
      "  if cb.is_string_like(edge_color) or len(edge_color) == 1:\n",
      "/Users/cardona/.local/share/virtualenvs/scripts-z_yBTKWJ/lib/python3.7/site-packages/networkx/drawing/nx_pylab.py:724: MatplotlibDeprecationWarning: The is_string_like function was deprecated in version 2.1.\n",
      "  if not cb.is_string_like(label):\n"
     ]
    },
    {
     "data": {
      "image/png": "[encoded data removed]",
      "text/plain": [
       "<matplotlib.figure.Figure at 0x11fdc1f60>"
      ]
     },
     "metadata": {
      "needs_background": "light"
     },
     "output_type": "display_data"
    }
   ],
   "source": [
    "draw(augmentation_H(t,'3','_1','_2',[]))"
   ]
  },
  {
   "cell_type": "code",
   "execution_count": 109,
   "metadata": {},
   "outputs": [
    {
     "data": {
      "text/plain": [
       "[1, 2, 3]"
      ]
     },
     "execution_count": 109,
     "metadata": {},
     "output_type": "execute_result"
    }
   ],
   "source": [
    "l[:-1]"
   ]
  },
  {
   "cell_type": "code",
   "execution_count": 156,
   "metadata": {},
   "outputs": [
    {
     "name": "stdout",
     "output_type": "stream",
     "text": [
      "_1 ()\n",
      "_1 _1 ()\n",
      "_1 ('_1',)\n",
      "_1 ()\n",
      "_3 ()\n",
      "_2 ()\n",
      "_1 _3 ()\n",
      "_1 _2 ()\n",
      "_2 _3 ()\n",
      "_1 _1 ()\n",
      "_3 _3 ()\n",
      "_2 _2 ()\n",
      "_1 ('_1',)\n",
      "_1 ('_2',)\n",
      "_3 ('_1',)\n",
      "_3 ('_3',)\n",
      "_3 ('_2',)\n",
      "_2 ('_1',)\n",
      "_2 ('_2',)\n",
      "_1 _3 ('_2',)\n",
      "_2 _3 ('_1',)\n",
      "_1 _1 ('_2',)\n",
      "_3 _3 ('_1',)\n",
      "_3 _3 ('_2',)\n",
      "_2 _2 ('_1',)\n",
      "_1 ('_1', '_2')\n",
      "_1 ('_2', '_1')\n",
      "_3 ('_1', '_3')\n",
      "_3 ('_1', '_2')\n",
      "_3 ('_3', '_1')\n",
      "_3 ('_3', '_2')\n",
      "_3 ('_2', '_1')\n",
      "_3 ('_2', '_3')\n",
      "_2 ('_1', '_2')\n",
      "_2 ('_2', '_1')\n",
      "_3 _3 ('_1', '_2')\n",
      "_3 _3 ('_2', '_1')\n",
      "_3 ('_1', '_3', '_2')\n",
      "_3 ('_1', '_2', '_3')\n",
      "_3 ('_3', '_1', '_2')\n",
      "_3 ('_3', '_2', '_1')\n",
      "_3 ('_2', '_1', '_3')\n",
      "_3 ('_2', '_3', '_1')\n",
      "_1 ()\n",
      "_3 ()\n",
      "_4 ()\n",
      "_5 ()\n",
      "_1 _3 ()\n",
      "_1 _4 ()\n",
      "_1 _5 ()\n",
      "_3 _4 ()\n",
      "_3 _5 ()\n",
      "_4 _5 ()\n",
      "_1 _1 ()\n",
      "_3 _3 ()\n",
      "_4 _4 ()\n",
      "_5 _5 ()\n",
      "_1 ('_1',)\n",
      "_1 ('_3',)\n",
      "_3 ('_1',)\n",
      "_3 ('_3',)\n",
      "_4 ('_1',)\n",
      "_4 ('_3',)\n",
      "_4 ('_4',)\n",
      "_4 ('_5',)\n",
      "_5 ('_1',)\n",
      "_5 ('_3',)\n",
      "_5 ('_5',)\n",
      "_1 _4 ('_3',)\n",
      "_1 _5 ('_3',)\n",
      "_3 _4 ('_1',)\n",
      "_3 _5 ('_1',)\n",
      "_4 _5 ('_1',)\n",
      "_4 _5 ('_3',)\n",
      "_1 _1 ('_3',)\n",
      "_3 _3 ('_1',)\n",
      "_4 _4 ('_1',)\n",
      "_4 _4 ('_3',)\n",
      "_4 _4 ('_5',)\n",
      "_5 _5 ('_1',)\n",
      "_5 _5 ('_3',)\n",
      "_1 ('_1', '_3')\n",
      "_1 ('_3', '_1')\n",
      "_3 ('_1', '_3')\n",
      "_3 ('_3', '_1')\n",
      "_4 ('_1', '_3')\n",
      "_4 ('_1', '_4')\n",
      "_4 ('_1', '_5')\n",
      "_4 ('_3', '_1')\n",
      "_4 ('_3', '_4')\n",
      "_4 ('_3', '_5')\n",
      "_4 ('_4', '_1')\n",
      "_4 ('_4', '_3')\n",
      "_4 ('_4', '_5')\n",
      "_4 ('_5', '_1')\n",
      "_4 ('_5', '_3')\n",
      "_4 ('_5', '_4')\n",
      "_5 ('_1', '_3')\n",
      "_5 ('_1', '_5')\n",
      "_5 ('_3', '_1')\n",
      "_5 ('_3', '_5')\n",
      "_5 ('_5', '_1')\n",
      "_5 ('_5', '_3')\n",
      "_4 _5 ('_1', '_3')\n",
      "_4 _5 ('_3', '_1')\n",
      "_4 _4 ('_1', '_3')\n",
      "_4 _4 ('_1', '_5')\n",
      "_4 _4 ('_3', '_1')\n",
      "_4 _4 ('_3', '_5')\n",
      "_4 _4 ('_5', '_1')\n",
      "_4 _4 ('_5', '_3')\n",
      "_5 _5 ('_1', '_3')\n",
      "_5 _5 ('_3', '_1')\n",
      "_4 ('_1', '_3', '_4')\n",
      "_4 ('_1', '_3', '_5')\n",
      "_4 ('_1', '_4', '_3')\n",
      "_4 ('_1', '_4', '_5')\n",
      "_4 ('_1', '_5', '_3')\n",
      "_4 ('_1', '_5', '_4')\n",
      "_4 ('_3', '_1', '_4')\n",
      "_4 ('_3', '_1', '_5')\n",
      "_4 ('_3', '_4', '_1')\n",
      "_4 ('_3', '_4', '_5')\n",
      "_4 ('_3', '_5', '_1')\n",
      "_4 ('_3', '_5', '_4')\n",
      "_4 ('_4', '_1', '_3')\n",
      "_4 ('_4', '_1', '_5')\n",
      "_4 ('_4', '_3', '_1')\n",
      "_4 ('_4', '_3', '_5')\n",
      "_4 ('_4', '_5', '_1')\n",
      "_4 ('_4', '_5', '_3')\n",
      "_4 ('_5', '_1', '_3')\n",
      "_4 ('_5', '_1', '_4')\n",
      "_4 ('_5', '_3', '_1')\n",
      "_4 ('_5', '_3', '_4')\n",
      "_4 ('_5', '_4', '_1')\n",
      "_4 ('_5', '_4', '_3')\n",
      "_5 ('_1', '_3', '_5')\n",
      "_5 ('_1', '_5', '_3')\n",
      "_5 ('_3', '_1', '_5')\n",
      "_5 ('_3', '_5', '_1')\n",
      "_5 ('_5', '_1', '_3')\n",
      "_5 ('_5', '_3', '_1')\n",
      "_4 _4 ('_1', '_3', '_5')\n",
      "_4 _4 ('_1', '_5', '_3')\n",
      "_4 _4 ('_3', '_1', '_5')\n",
      "_4 _4 ('_3', '_5', '_1')\n",
      "_4 _4 ('_5', '_1', '_3')\n",
      "_4 _4 ('_5', '_3', '_1')\n",
      "_4 ('_1', '_3', '_4', '_5')\n",
      "_4 ('_1', '_3', '_5', '_4')\n",
      "_4 ('_1', '_4', '_3', '_5')\n",
      "_4 ('_1', '_4', '_5', '_3')\n",
      "_4 ('_1', '_5', '_3', '_4')\n",
      "_4 ('_1', '_5', '_4', '_3')\n",
      "_4 ('_3', '_1', '_4', '_5')\n",
      "_4 ('_3', '_1', '_5', '_4')\n",
      "_4 ('_3', '_4', '_1', '_5')\n",
      "_4 ('_3', '_4', '_5', '_1')\n",
      "_4 ('_3', '_5', '_1', '_4')\n",
      "_4 ('_3', '_5', '_4', '_1')\n",
      "_4 ('_4', '_1', '_3', '_5')\n",
      "_4 ('_4', '_1', '_5', '_3')\n",
      "_4 ('_4', '_3', '_1', '_5')\n",
      "_4 ('_4', '_3', '_5', '_1')\n",
      "_4 ('_4', '_5', '_1', '_3')\n",
      "_4 ('_4', '_5', '_3', '_1')\n",
      "_4 ('_5', '_1', '_3', '_4')\n",
      "_4 ('_5', '_1', '_4', '_3')\n",
      "_4 ('_5', '_3', '_1', '_4')\n",
      "_4 ('_5', '_3', '_4', '_1')\n",
      "_4 ('_5', '_4', '_1', '_3')\n",
      "_4 ('_5', '_4', '_3', '_1')\n",
      "_1 ()\n",
      "_2 ()\n",
      "_3 ()\n",
      "_4 ()\n",
      "_1 _2 ()\n",
      "_1 _3 ()\n",
      "_1 _4 ()\n",
      "_2 _3 ()\n",
      "_2 _4 ()\n",
      "_3 _4 ()\n",
      "_1 _1 ()\n",
      "_2 _2 ()\n",
      "_3 _3 ()\n",
      "_4 _4 ()\n",
      "_1 ('_1',)\n",
      "_1 ('_3',)\n",
      "_2 ('_1',)\n",
      "_2 ('_2',)\n",
      "_2 ('_3',)\n",
      "_3 ('_1',)\n",
      "_3 ('_3',)\n",
      "_4 ('_1',)\n",
      "_4 ('_2',)\n",
      "_4 ('_3',)\n",
      "_4 ('_4',)\n",
      "_1 _2 ('_3',)\n",
      "_1 _4 ('_3',)\n",
      "_2 _3 ('_1',)\n",
      "_2 _4 ('_1',)\n",
      "_2 _4 ('_3',)\n",
      "_3 _4 ('_1',)\n",
      "_1 _1 ('_3',)\n",
      "_2 _2 ('_1',)\n",
      "_2 _2 ('_3',)\n",
      "_3 _3 ('_1',)\n",
      "_4 _4 ('_1',)\n",
      "_4 _4 ('_2',)\n",
      "_4 _4 ('_3',)\n",
      "_1 ('_1', '_3')\n",
      "_1 ('_3', '_1')\n",
      "_2 ('_1', '_2')\n",
      "_2 ('_1', '_3')\n",
      "_2 ('_2', '_1')\n",
      "_2 ('_2', '_3')\n",
      "_2 ('_3', '_1')\n",
      "_2 ('_3', '_2')\n",
      "_3 ('_1', '_3')\n",
      "_3 ('_3', '_1')\n",
      "_4 ('_1', '_2')\n",
      "_4 ('_1', '_3')\n",
      "_4 ('_1', '_4')\n",
      "_4 ('_2', '_1')\n",
      "_4 ('_2', '_3')\n",
      "_4 ('_2', '_4')\n",
      "_4 ('_3', '_1')\n",
      "_4 ('_3', '_2')\n",
      "_4 ('_3', '_4')\n",
      "_4 ('_4', '_1')\n",
      "_4 ('_4', '_2')\n",
      "_4 ('_4', '_3')\n",
      "_2 _4 ('_1', '_3')\n",
      "_2 _4 ('_3', '_1')\n",
      "_2 _2 ('_1', '_3')\n",
      "_2 _2 ('_3', '_1')\n",
      "_4 _4 ('_1', '_2')\n",
      "_4 _4 ('_1', '_3')\n",
      "_4 _4 ('_2', '_1')\n",
      "_4 _4 ('_2', '_3')\n",
      "_4 _4 ('_3', '_1')\n",
      "_4 _4 ('_3', '_2')\n",
      "_2 ('_1', '_2', '_3')\n",
      "_2 ('_1', '_3', '_2')\n",
      "_2 ('_2', '_1', '_3')\n",
      "_2 ('_2', '_3', '_1')\n",
      "_2 ('_3', '_1', '_2')\n",
      "_2 ('_3', '_2', '_1')\n",
      "_4 ('_1', '_2', '_3')\n",
      "_4 ('_1', '_2', '_4')\n",
      "_4 ('_1', '_3', '_2')\n",
      "_4 ('_1', '_3', '_4')\n",
      "_4 ('_1', '_4', '_2')\n",
      "_4 ('_1', '_4', '_3')\n",
      "_4 ('_2', '_1', '_3')\n",
      "_4 ('_2', '_1', '_4')\n",
      "_4 ('_2', '_3', '_1')\n",
      "_4 ('_2', '_3', '_4')\n",
      "_4 ('_2', '_4', '_1')\n",
      "_4 ('_2', '_4', '_3')\n",
      "_4 ('_3', '_1', '_2')\n",
      "_4 ('_3', '_1', '_4')\n",
      "_4 ('_3', '_2', '_1')\n",
      "_4 ('_3', '_2', '_4')\n",
      "_4 ('_3', '_4', '_1')\n",
      "_4 ('_3', '_4', '_2')\n",
      "_4 ('_4', '_1', '_2')\n",
      "_4 ('_4', '_1', '_3')\n",
      "_4 ('_4', '_2', '_1')\n",
      "_4 ('_4', '_2', '_3')\n",
      "_4 ('_4', '_3', '_1')\n",
      "_4 ('_4', '_3', '_2')\n",
      "_4 _4 ('_1', '_2', '_3')\n",
      "_4 _4 ('_1', '_3', '_2')\n",
      "_4 _4 ('_2', '_1', '_3')\n",
      "_4 _4 ('_2', '_3', '_1')\n",
      "_4 _4 ('_3', '_1', '_2')\n",
      "_4 _4 ('_3', '_2', '_1')\n",
      "_4 ('_1', '_2', '_3', '_4')\n",
      "_4 ('_1', '_2', '_4', '_3')\n",
      "_4 ('_1', '_3', '_2', '_4')\n",
      "_4 ('_1', '_3', '_4', '_2')\n",
      "_4 ('_1', '_4', '_2', '_3')\n",
      "_4 ('_1', '_4', '_3', '_2')\n",
      "_4 ('_2', '_1', '_3', '_4')\n",
      "_4 ('_2', '_1', '_4', '_3')\n",
      "_4 ('_2', '_3', '_1', '_4')\n",
      "_4 ('_2', '_3', '_4', '_1')\n",
      "_4 ('_2', '_4', '_1', '_3')\n",
      "_4 ('_2', '_4', '_3', '_1')\n",
      "_4 ('_3', '_1', '_2', '_4')\n",
      "_4 ('_3', '_1', '_4', '_2')\n",
      "_4 ('_3', '_2', '_1', '_4')\n",
      "_4 ('_3', '_2', '_4', '_1')\n",
      "_4 ('_3', '_4', '_1', '_2')\n",
      "_4 ('_3', '_4', '_2', '_1')\n",
      "_4 ('_4', '_1', '_2', '_3')\n",
      "_4 ('_4', '_1', '_3', '_2')\n",
      "_4 ('_4', '_2', '_1', '_3')\n",
      "_4 ('_4', '_2', '_3', '_1')\n",
      "_4 ('_4', '_3', '_1', '_2')\n",
      "_4 ('_4', '_3', '_2', '_1')\n",
      "((1,3),2);\n",
      "((1,2),3);\n",
      "((2,3),1);\n",
      "((((3)_4,1),2),_4);\n",
      "(((3)_4,1),(2,_4));\n",
      "((((3)_4,2),1),_4);\n",
      "(((1,_4),(3)_4),2);\n",
      "(((1,2),_4),(3)_4);\n",
      "(((2,_4),(3)_4),1);\n",
      "((((1)_7,3),_7),2);\n",
      "((((2)_7,3),1),_7);\n",
      "(((1)_7,2),(3,_7));\n",
      "((((1,2))_7,3),_7);\n",
      "(((2)_7,1),(3,_7));\n",
      "((((1)_7,3),2),_7);\n",
      "((((2)_7,3),_7),1);\n",
      "((((((2)_9,3))_4,1),_9),_4);\n",
      "((((((1)_9,3))_4,2),_9),_4);\n",
      "(((((2)_9,3))_4,(1,_4)),_9);\n",
      "((((1)_9,3))_4,((2,_9),_4));\n",
      "((((2)_9,3))_4,((1,_9),_4));\n",
      "(((((1)_9,3))_4,(2,_4)),_9);\n",
      "(((((2)_9,3),(1)_8),_8),_9);\n",
      "(((((1)_9,3),(2)_8),_9),_8);\n",
      "((((((1)_8,2))_9,3),_8),_9);\n",
      "(((1)_8,(2)_9),((3,_9),_8));\n",
      "((((1)_9,3),((2,_9))_8),_8);\n",
      "((((1,_9))_8,((2)_9,3)),_8);\n",
      "(((1)_9,(2)_8),((3,_9),_8));\n",
      "((((((2)_8,1))_9,3),_8),_9);\n",
      "(((((2)_9,3),(1)_8),_9),_8);\n",
      "(((((1)_9,3),(2)_8),_8),_9);\n",
      "(((((2)_11,3),(1)_10))_4,((_10,_11),_4));\n",
      "(((((1)_11,3),(2)_10))_4,((_10,_11),_4));\n",
      "((((((1)_9,_11))_10,((2)_11,3)),_9),_10);\n",
      "(((((((1)_9,(2)_10))_11,3),_10),_9),_11);\n",
      "(((((2)_11,3),(1)_10),((_10,_11))_9),_9);\n",
      "(((((1)_11,3),(2)_10),((_10,_11))_9),_9);\n",
      "(((((((1)_10,(2)_9))_11,3),_10),_9),_11);\n",
      "((((((2)_9,_11))_10,((1)_11,3)),_9),_10);\n",
      "(((1,3),_2),(2)_2);\n",
      "(((2,3))_2,(1,_2));\n",
      "(((1,_2),(2)_2),3);\n",
      "(((1,_2),3),(2)_2);\n",
      "((((3)_6,2))_2,((1,_6),_2));\n",
      "(((((3)_6,1),_2),(2)_2),_6);\n",
      "(((((3)_6,1),_2),_6),(2)_2);\n",
      "(((((3)_6,2))_2,(1,_2)),_6);\n",
      "((((3)_6,2))_2,((1,_2),_6));\n",
      "((((1,_2),(3)_6),(2)_2),_6);\n",
      "((((1,_6),(3)_6),_2),(2)_2);\n",
      "((((2,_6),(3)_6))_2,(1,_2));\n",
      "((((1,_2),(2)_2),_6),(3)_6);\n",
      "((((1,_2),_6),(3)_6),(2)_2);\n",
      "(((((1)_9,3),_9),_2),(2)_2);\n",
      "((((3,_9),1),_2),((2)_9)_2);\n",
      "(((((1)_9,3),2))_2,(_2,_9));\n",
      "(((((2)_9,3),_9))_2,(1,_2));\n",
      "((((1)_9,_2),(2)_2),(3,_9));\n",
      "((((2)_9)_2,(1,_2)),(3,_9));\n",
      "(((((1,_2),(2)_2))_9,3),_9);\n",
      "((((1,_2))_9,(2)_2),(3,_9));\n",
      "((((1)_9,_2),(3,_9)),(2)_2);\n",
      "(((1,_2),(3,_9)),((2)_9)_2);\n",
      "(((((1,_2))_9,3),_9),(2)_2);\n",
      "((((((3,_11))_6,1),_2),((2)_11)_2),_6);\n",
      "((((((3,_11))_6,1),_2),_6),((2)_11)_2);\n",
      "(((((((1)_11,3))_6,2))_2,(_11,_2)),_6);\n",
      "((((((1)_11,3))_6,2))_2,((_11,_2),_6));\n",
      "(((((1)_11,_2),((3,_11))_6),(2)_2),_6);\n",
      "(((((3,_11))_6,(1,_2)),((2)_11)_2),_6);\n",
      "(((((3,_11))_6,(1,_6)),_2),((2)_11)_2);\n",
      "((((((1)_11,3))_6,(2,_6)))_2,(_11,_2));\n",
      "((((1)_11,3))_6,(((2)_2,(_11,_2)),_6));\n",
      "((((1,_2),(_11)_2),_6),(((2)_11,3))_6);\n",
      "((((((2)_2,1))_11,3))_6,((_11,_2),_6));\n",
      "(((((1)_11,3))_6,((_11,_2),_6)),(2)_2);\n",
      "((((1,_2),_6),((3,_11))_6),((2)_11)_2);\n",
      "(((((1)_10,(3,_11)),_10),_2),((2)_11)_2);\n",
      "((((((1)_11,3),_10),_11),_2),((2)_10)_2);\n",
      "((((((2)_11,3),(1)_10),_11))_2,(_10,_2));\n",
      "((((((1)_11,3),(2)_10),_10))_2,(_11,_2));\n",
      "((((1)_10,_2),((2)_11)_2),((3,_11),_10));\n",
      "(((((((1)_10,_2),(2)_2))_11,3),_10),_11);\n",
      "(((((1)_10,_2))_11,(2)_2),((3,_11),_10));\n",
      "((((1)_11,_2),((2)_10)_2),((3,_11),_10));\n",
      "(((((((2)_10)_2,(1,_2)))_11,3),_10),_11);\n",
      "((((1,_2))_11,((2)_10)_2),((3,_11),_10));\n",
      "(((((2)_2,(_11,_2)))_10,((1)_11,3)),_10);\n",
      "(((((1,_2),(_11)_2))_10,((2)_11,3)),_10);\n",
      "((((((2)_2,1))_11,3),((_11,_2))_10),_10);\n",
      "(((((1)_11,_2))_10,(2)_2),((3,_11),_10));\n",
      "((((1,_2))_10,((2)_11)_2),((3,_11),_10));\n",
      "(((((((1,_2))_10,(2)_2))_11,3),_10),_11);\n",
      "((((1)_10,_2),((3,_11),_10)),((2)_11)_2);\n",
      "(((((((1)_10,_2))_11,3),_10),_11),(2)_2);\n",
      "((((1)_11,_2),((3,_11),_10)),((2)_10)_2);\n",
      "((((((1,_2))_11,3),_10),_11),((2)_10)_2);\n",
      "(((((1)_11,3),((_11,_2))_10),_10),(2)_2);\n",
      "(((((1,_2))_10,(3,_11)),_10),((2)_11)_2);\n",
      "((((((3,_13),_12))_6,((1)_12,_2)),((2)_13)_2),_6);\n",
      "((((((3,_13),_12))_6,((1)_13,_2)),((2)_12)_2),_6);\n",
      "(((((2)_13,3),(1)_12))_6,(((_12,_2),(_13)_2),_6));\n",
      "(((((((1)_12,(2)_2))_13,3),_12))_6,((_13,_2),_6));\n",
      "(((((1)_13,3),(2)_12))_6,(((_12)_2,(_13,_2)),_6));\n",
      "((((((((2)_12)_2,1))_13,3),_12))_6,((_13,_2),_6));\n",
      "((((((2)_2,_13))_12,((1)_13,3)))_6,((_12,_2),_6));\n",
      "((((((_13)_2,1))_12,((2)_13,3)))_6,((_12,_2),_6));\n",
      "(((((1)_12,(3,_13)))_6,((_12,_2),_6)),((2)_13)_2);\n",
      "((((((1)_13,3),_12))_6,((_13,_2),_6)),((2)_12)_2);\n",
      "((((((((1)_11,_2),((2)_12)_2))_13,3),_12),_11),_13);\n",
      "(((((1)_11,_2))_13,((2)_12)_2),(((3,_13),_12),_11));\n",
      "(((((((1)_11,_2),(_13)_2))_12,((2)_13,3)),_11),_12);\n",
      "(((((((1)_11,(2)_2))_13,3),((_13,_2))_12),_11),_12);\n",
      "(((((1)_11,_2))_12,((2)_13)_2),(((3,_13),_12),_11));\n",
      "(((((((((1)_11,_2))_12,(2)_2))_13,3),_12),_11),_13);\n",
      "((((((((1)_12,_2),((2)_11)_2))_13,3),_12),_11),_13);\n",
      "(((((1)_12,_2))_13,((2)_11)_2),(((3,_13),_12),_11));\n",
      "(((((((2)_11)_2,(_13,_2)))_12,((1)_13,3)),_11),_12);\n",
      "((((((((2)_11)_2,1))_13,3),((_13,_2))_12),_11),_12);\n",
      "(((((1)_13,_2))_12,((2)_11)_2),(((3,_13),_12),_11));\n",
      "((((((((1,_2))_12,((2)_11)_2))_13,3),_12),_11),_13);\n",
      "(((((2)_13,3),(1)_12),(((_12,_2),(_13)_2))_11),_11);\n",
      "(((((((1)_12,(2)_2))_13,3),_12),((_13,_2))_11),_11);\n",
      "(((((1)_13,3),(2)_12),(((_12)_2,(_13,_2)))_11),_11);\n",
      "((((((((2)_12)_2,1))_13,3),_12),((_13,_2))_11),_11);\n",
      "((((((2)_2,_13))_12,((1)_13,3)),((_12,_2))_11),_11);\n",
      "((((((_13)_2,1))_12,((2)_13,3)),((_12,_2))_11),_11);\n",
      "(((((1)_12,_2))_11,((2)_13)_2),(((3,_13),_12),_11));\n",
      "(((((((((1)_12,_2))_11,(2)_2))_13,3),_12),_11),_13);\n",
      "(((((1)_13,_2))_11,((2)_12)_2),(((3,_13),_12),_11));\n",
      "((((((((1,_2))_11,((2)_12)_2))_13,3),_12),_11),_13);\n",
      "(((((((_13,_2))_11,(2)_2))_12,((1)_13,3)),_11),_12);\n",
      "(((((((1,_2))_11,(_13)_2))_12,((2)_13,3)),_11),_12);\n",
      "((((((((1)_11,_2))_13,3),_12),_11),_13),((2)_12)_2);\n",
      "(((((((1)_11,_2))_12,(3,_13)),_11),_12),((2)_13)_2);\n",
      "((((((((1)_12,_2))_13,3),_12),_11),_13),((2)_11)_2);\n",
      "((((((1)_13,3),((_13,_2))_12),_11),_12),((2)_11)_2);\n",
      "(((((1)_12,(3,_13)),((_12,_2))_11),_11),((2)_13)_2);\n",
      "((((((1)_13,3),_12),((_13,_2))_11),_11),((2)_12)_2);\n",
      "(((((((((2)_14)_2,(1)_13))_15,3),_14),_13))_6,((_15,_2),_6));\n",
      "(((((((1)_13,(_15)_2))_14,((2)_15,3)),_13))_6,((_14,_2),_6));\n",
      "(((((((((2)_13)_2,(1)_14))_15,3),_14),_13))_6,((_15,_2),_6));\n",
      "((((((((2)_13)_2,_15))_14,((1)_15,3)),_13))_6,((_14,_2),_6));\n",
      "((((((2)_15,3),(1)_14),(((_15)_2,_14))_13))_6,((_13,_2),_6));\n",
      "((((((1)_15,3),(2)_14),(((_14)_2,_15))_13))_6,((_13,_2),_6));\n",
      "(((((((((2)_13)_2,(1)_12))_15,3),((_15,_2))_14),_13),_12),_14);\n",
      "((((((((((1)_12,_2))_14,((2)_13)_2))_15,3),_14),_13),_12),_15);\n",
      "(((((((((2)_14)_2,(1)_12))_15,3),_14),((_15,_2))_13),_12),_13);\n",
      "(((((((1)_12,(_15)_2))_14,((2)_15,3)),((_14,_2))_13),_12),_13);\n",
      "((((((((((1)_12,_2))_13,((2)_14)_2))_15,3),_14),_13),_12),_15);\n",
      "(((((((((1)_12,_2))_13,(_15)_2))_14,((2)_15,3)),_13),_12),_14);\n",
      "(((((((((2)_12)_2,(1)_13))_15,3),((_15,_2))_14),_13),_12),_14);\n",
      "((((((((((1)_13,_2))_14,((2)_12)_2))_15,3),_14),_13),_12),_15);\n",
      "(((((((((2)_12)_2,(1)_14))_15,3),_14),((_15,_2))_13),_12),_13);\n",
      "((((((((2)_12)_2,_15))_14,((1)_15,3)),((_14,_2))_13),_12),_13);\n",
      "((((((((((1)_14,_2))_13,((2)_12)_2))_15,3),_14),_13),_12),_15);\n",
      "((((((((2)_12)_2,((_15,_2))_13))_14,((1)_15,3)),_13),_12),_14);\n",
      "(((((((((2)_14)_2,(1)_13))_15,3),_14),_13),((_15,_2))_12),_12);\n",
      "(((((((1)_13,(_15)_2))_14,((2)_15,3)),_13),((_14,_2))_12),_12);\n",
      "(((((((((2)_13)_2,(1)_14))_15,3),_14),_13),((_15,_2))_12),_12);\n",
      "((((((((2)_13)_2,_15))_14,((1)_15,3)),_13),((_14,_2))_12),_12);\n",
      "((((((2)_15,3),(1)_14),(((_15)_2,_14))_13),((_13,_2))_12),_12);\n",
      "((((((1)_15,3),(2)_14),(((_14)_2,_15))_13),((_13,_2))_12),_12);\n",
      "((((((((((1)_13,_2))_12,((2)_14)_2))_15,3),_14),_13),_12),_15);\n",
      "(((((((((1)_13,_2))_12,(_15)_2))_14,((2)_15,3)),_13),_12),_14);\n",
      "((((((((((1)_14,_2))_12,((2)_13)_2))_15,3),_14),_13),_12),_15);\n",
      "((((((((2)_13)_2,((_15,_2))_12))_14,((1)_15,3)),_13),_12),_14);\n",
      "(((((((_14,_2))_12,(_15)_2))_13,(((2)_15,3),(1)_14)),_12),_13);\n",
      "(((((((_15,_2))_12,(_14)_2))_13,(((1)_15,3),(2)_14)),_12),_13);\n",
      "((((1,3))_5,2),_5);\n",
      "(((2,_5),3),(1)_5);\n",
      "(((1)_5,(2,3)),_5);\n",
      "((((1)_5,2),_5),3);\n",
      "((((3)_6,1))_5,((2,_5),_6));\n",
      "(((((3)_6,1))_5,(2,_6)),_5);\n",
      "((((((3)_6,1))_5,2),_5),_6);\n",
      "(((((3)_6,2),_5),_6),(1)_5);\n",
      "((((2,_5),(3)_6),(1)_5),_6);\n",
      "(((((3)_6,2),(1)_5),_5),_6);\n",
      "(((((1,_6),(3)_6))_5,2),_5);\n",
      "((((2,_5),_6),(3)_6),(1)_5);\n",
      "((((2,_6),(3)_6),(1)_5),_5);\n",
      "(((((1)_5,2),_5),_6),(3)_6);\n",
      "((((((1)_9,3),_9))_5,2),_5);\n",
      "((((((2)_9,3),1))_5,_9),_5);\n",
      "(((1)_9)_5,((2,_5),(3,_9)));\n",
      "(((((2,_5))_9,3),_9),(1)_5);\n",
      "((((2)_9,_5),(3,_9)),(1)_5);\n",
      "((((1)_9)_5,((3,_9),2)),_5);\n",
      "(((((2)_9,3),_9),(1)_5),_5);\n",
      "(((((1)_9)_5,2),_5),(3,_9));\n",
      "((((2,_5))_9,(1)_5),(3,_9));\n",
      "((((1)_5,(2)_9),_5),(3,_9));\n",
      "((((((1)_5,2),_5))_9,3),_9);\n",
      "((((((2)_11,3))_6,1))_5,((_11,_5),_6));\n",
      "((((((((2)_11,3))_6,1))_5,_11),_5),_6);\n",
      "((((((3,_11))_6,2),_5),_6),((1)_11)_5);\n",
      "(((((3,_11))_6,(2,_5)),((1)_11)_5),_6);\n",
      "(((((2)_11,_5),((3,_11))_6),(1)_5),_6);\n",
      "((((((3,_11))_6,2),((1)_11)_5),_5),_6);\n",
      "(((((((2)_11,3))_6,(1,_6)))_5,_11),_5);\n",
      "((((2,_5),_6),((3,_11))_6),((1)_11)_5);\n",
      "(((((2)_11,3))_6,((_11,_5),_6)),(1)_5);\n",
      "(((((3,_11))_6,(2,_6)),((1)_11)_5),_5);\n",
      "(((((_11)_5,2),_5),_6),(((1)_11,3))_6);\n",
      "((((((1)_5,2))_11,3))_6,((_11,_5),_6));\n",
      "(((((1)_5,_11),_5),_6),(((2)_11,3))_6);\n",
      "(((((((2)_11,3),(1)_10),_10))_5,_11),_5);\n",
      "(((((((1)_11,3),(2)_10),_11))_5,_10),_5);\n",
      "((((((2,_5))_11,3),_10),_11),((1)_10)_5);\n",
      "((((2)_11,_5),((3,_11),_10)),((1)_10)_5);\n",
      "(((((2,_5))_10,(3,_11)),_10),((1)_11)_5);\n",
      "(((((2)_11,3),((_11,_5))_10),_10),(1)_5);\n",
      "((((2)_10,_5),((3,_11),_10)),((1)_11)_5);\n",
      "(((((((2)_10,_5))_11,3),_10),_11),(1)_5);\n",
      "((((((2)_11,3),_10),_11),((1)_10)_5),_5);\n",
      "(((((2)_10,(3,_11)),_10),((1)_11)_5),_5);\n",
      "((((1)_10)_5,((2,_5))_11),((3,_11),_10));\n",
      "(((((1)_10)_5,(2)_11),_5),((3,_11),_10));\n",
      "((((((((1)_10)_5,2),_5))_11,3),_10),_11);\n",
      "((((1)_11)_5,((2,_5))_10),((3,_11),_10));\n",
      "(((((2)_11,_5))_10,(1)_5),((3,_11),_10));\n",
      "(((((((2,_5))_10,(1)_5))_11,3),_10),_11);\n",
      "(((((1)_11)_5,(2)_10),_5),((3,_11),_10));\n",
      "(((((2)_10,_5))_11,(1)_5),((3,_11),_10));\n",
      "(((((((1)_5,(2)_10),_5))_11,3),_10),_11);\n",
      "((((((_11)_5,2),_5))_10,((1)_11,3)),_10);\n",
      "((((((1)_5,2))_11,3),((_11,_5))_10),_10);\n",
      "((((((1)_5,_11),_5))_10,((2)_11,3)),_10);\n",
      "((((((3,_13),_12))_6,((2)_13,_5)),((1)_12)_5),_6);\n",
      "((((((3,_13),_12))_6,((2)_12,_5)),((1)_13)_5),_6);\n",
      "((((((2)_13,3),_12))_6,((_13,_5),_6)),((1)_12)_5);\n",
      "(((((2)_12,(3,_13)))_6,((_12,_5),_6)),((1)_13)_5);\n",
      "((((((((1)_12)_5,2))_13,3),_12))_6,((_13,_5),_6));\n",
      "(((((2)_13,3),(1)_12))_6,((((_12)_5,_13),_5),_6));\n",
      "((((((_13)_5,2))_12,((1)_13,3)))_6,((_12,_5),_6));\n",
      "((((((1)_5,_13))_12,((2)_13,3)))_6,((_12,_5),_6));\n",
      "(((((1)_13,3),(2)_12))_6,((((_13)_5,_12),_5),_6));\n",
      "(((((((1)_5,(2)_12))_13,3),_12))_6,((_13,_5),_6));\n",
      "((((((2)_13,3),((_13,_5))_12),_11),_12),((1)_11)_5);\n",
      "((((((((2)_12,_5))_13,3),_12),_11),_13),((1)_11)_5);\n",
      "((((((2)_13,3),_12),((_13,_5))_11),_11),((1)_12)_5);\n",
      "(((((2)_12,(3,_13)),((_12,_5))_11),_11),((1)_13)_5);\n",
      "((((((((2)_11,_5))_13,3),_12),_11),_13),((1)_12)_5);\n",
      "(((((((2)_11,_5))_12,(3,_13)),_11),_12),((1)_13)_5);\n",
      "(((((2)_13,_5))_12,((1)_11)_5),(((3,_13),_12),_11));\n",
      "((((((((1)_11)_5,((2,_5))_12))_13,3),_12),_11),_13);\n",
      "(((((2)_12,_5))_13,((1)_11)_5),(((3,_13),_12),_11));\n",
      "(((((((((1)_11)_5,(2)_12),_5))_13,3),_12),_11),_13);\n",
      "((((((((1)_11)_5,2))_13,3),((_13,_5))_12),_11),_12);\n",
      "((((((((1)_11)_5,_13),_5))_12,((2)_13,3)),_11),_12);\n",
      "(((((2)_13,_5))_11,((1)_12)_5),(((3,_13),_12),_11));\n",
      "((((((((1)_12)_5,((2,_5))_11))_13,3),_12),_11),_13);\n",
      "(((((2)_12,_5))_11,((1)_13)_5),(((3,_13),_12),_11));\n",
      "(((((((((2)_12,_5))_11,(1)_5))_13,3),_12),_11),_13);\n",
      "(((((((2,_5))_11,(_13)_5))_12,((1)_13,3)),_11),_12);\n",
      "(((((((_13,_5))_11,(1)_5))_12,((2)_13,3)),_11),_12);\n",
      "(((((2)_11,_5))_13,((1)_12)_5),(((3,_13),_12),_11));\n",
      "(((((((((1)_12)_5,(2)_11),_5))_13,3),_12),_11),_13);\n",
      "(((((2)_11,_5))_12,((1)_13)_5),(((3,_13),_12),_11));\n",
      "(((((((((2)_11,_5))_12,(1)_5))_13,3),_12),_11),_13);\n",
      "(((((((2)_11,(_13)_5),_5))_12,((1)_13,3)),_11),_12);\n",
      "(((((((1)_5,(2)_11))_13,3),((_13,_5))_12),_11),_12);\n",
      "((((((((1)_12)_5,2))_13,3),_12),((_13,_5))_11),_11);\n",
      "((((((_12)_5,_13),_5))_11,(((2)_13,3),(1)_12)),_11);\n",
      "((((((_13)_5,2))_12,((1)_13,3)),((_12,_5))_11),_11);\n",
      "((((((1)_5,_13))_12,((2)_13,3)),((_12,_5))_11),_11);\n",
      "((((((_13)_5,_12),_5))_11,(((1)_13,3),(2)_12)),_11);\n",
      "(((((((1)_5,(2)_12))_13,3),_12),((_13,_5))_11),_11);\n",
      "((((((((1)_13)_5,_15))_14,((2)_15,3)),_13))_6,((_14,_5),_6));\n",
      "(((((((((1)_13)_5,(2)_14))_15,3),_14),_13))_6,((_15,_5),_6));\n",
      "((((((2)_15,3),(1)_14),(((_14)_5,_15))_13))_6,((_13,_5),_6));\n",
      "((((((1)_15,3),(2)_14),(((_15)_5,_14))_13))_6,((_13,_5),_6));\n",
      "(((((((((1)_14)_5,(2)_13))_15,3),_14),_13))_6,((_15,_5),_6));\n",
      "(((((((2)_13,(_15)_5))_14,((1)_15,3)),_13))_6,((_14,_5),_6));\n",
      "((((((((((2)_14,_5))_13,((1)_12)_5))_15,3),_14),_13),_12),_15);\n",
      "((((((((1)_12)_5,((_15,_5))_13))_14,((2)_15,3)),_13),_12),_14);\n",
      "((((((((((2)_13,_5))_14,((1)_12)_5))_15,3),_14),_13),_12),_15);\n",
      "(((((((((1)_12)_5,(2)_13))_15,3),((_15,_5))_14),_13),_12),_14);\n",
      "((((((((1)_12)_5,_15))_14,((2)_15,3)),((_14,_5))_13),_12),_13);\n",
      "(((((((((1)_12)_5,(2)_14))_15,3),_14),((_15,_5))_13),_12),_13);\n",
      "((((((((((2)_14,_5))_12,((1)_13)_5))_15,3),_14),_13),_12),_15);\n",
      "((((((((1)_13)_5,((_15,_5))_12))_14,((2)_15,3)),_13),_12),_14);\n",
      "((((((((((2)_13,_5))_12,((1)_14)_5))_15,3),_14),_13),_12),_15);\n",
      "(((((((((2)_13,_5))_12,(_15)_5))_14,((1)_15,3)),_13),_12),_14);\n",
      "(((((((_15,_5))_12,(_14)_5))_13,(((2)_15,3),(1)_14)),_12),_13);\n",
      "(((((((_14,_5))_12,(_15)_5))_13,(((1)_15,3),(2)_14)),_12),_13);\n",
      "((((((((((2)_12,_5))_14,((1)_13)_5))_15,3),_14),_13),_12),_15);\n",
      "(((((((((1)_13)_5,(2)_12))_15,3),((_15,_5))_14),_13),_12),_14);\n",
      "((((((((((2)_12,_5))_13,((1)_14)_5))_15,3),_14),_13),_12),_15);\n",
      "(((((((((2)_12,_5))_13,(_15)_5))_14,((1)_15,3)),_13),_12),_14);\n",
      "(((((((((1)_14)_5,(2)_12))_15,3),_14),((_15,_5))_13),_12),_13);\n",
      "(((((((2)_12,(_15)_5))_14,((1)_15,3)),((_14,_5))_13),_12),_13);\n",
      "((((((((1)_13)_5,_15))_14,((2)_15,3)),_13),((_14,_5))_12),_12);\n",
      "(((((((((1)_13)_5,(2)_14))_15,3),_14),_13),((_15,_5))_12),_12);\n",
      "((((((2)_15,3),(1)_14),(((_14)_5,_15))_13),((_13,_5))_12),_12);\n",
      "((((((1)_15,3),(2)_14),(((_15)_5,_14))_13),((_13,_5))_12),_12);\n",
      "(((((((((1)_14)_5,(2)_13))_15,3),_14),_13),((_15,_5))_12),_12);\n",
      "(((((((2)_13,(_15)_5))_14,((1)_15,3)),_13),((_14,_5))_12),_12);\n"
     ]
    }
   ],
   "source": [
    "for net in find_networks(['1','2','3']):\n",
    "    print(net)"
   ]
  },
  {
   "cell_type": "code",
   "execution_count": 162,
   "metadata": {},
   "outputs": [
    {
     "name": "stdout",
     "output_type": "stream",
     "text": [
      "3\n",
      "3\n",
      "40\n",
      "170\n",
      "300\n",
      "3\n",
      "40\n",
      "170\n",
      "300\n",
      "658\n",
      "1316\n",
      "1974\n",
      "5022\n",
      "8511\n",
      "11559\n",
      "14966\n",
      "18014\n",
      "21421\n",
      "24828\n",
      "27876\n",
      "31365\n",
      "34413\n",
      "37902\n",
      "40950\n",
      "44357\n",
      "63495\n",
      "82633\n",
      "101771\n",
      "121410\n",
      "141049\n",
      "160187\n",
      "179325\n",
      "198463\n",
      "217601\n",
      "239393\n",
      "259032\n",
      "278671\n",
      "300463\n",
      "319601\n",
      "338739\n",
      "357877\n",
      "505681\n"
     ]
    },
    {
     "ename": "KeyboardInterrupt",
     "evalue": "",
     "output_type": "error",
     "traceback": [
      "\u001b[0;31m---------------------------------------------------------------------------\u001b[0m",
      "\u001b[0;31mKeyboardInterrupt\u001b[0m                         Traceback (most recent call last)",
      "\u001b[0;32m<ipython-input-162-5aead4aa05a0>\u001b[0m in \u001b[0;36m<module>\u001b[0;34m\u001b[0m\n\u001b[1;32m      2\u001b[0m \u001b[0mN2\u001b[0m\u001b[0;34m=\u001b[0m\u001b[0mfind_networks\u001b[0m\u001b[0;34m(\u001b[0m\u001b[0;34m[\u001b[0m\u001b[0;34m'1'\u001b[0m\u001b[0;34m,\u001b[0m\u001b[0;34m'2'\u001b[0m\u001b[0;34m]\u001b[0m\u001b[0;34m)\u001b[0m\u001b[0;34m\u001b[0m\u001b[0;34m\u001b[0m\u001b[0m\n\u001b[1;32m      3\u001b[0m \u001b[0mN3\u001b[0m\u001b[0;34m=\u001b[0m\u001b[0mfind_networks\u001b[0m\u001b[0;34m(\u001b[0m\u001b[0;34m[\u001b[0m\u001b[0;34m'1'\u001b[0m\u001b[0;34m,\u001b[0m\u001b[0;34m'2'\u001b[0m\u001b[0;34m,\u001b[0m\u001b[0;34m'3'\u001b[0m\u001b[0;34m]\u001b[0m\u001b[0;34m)\u001b[0m\u001b[0;34m\u001b[0m\u001b[0;34m\u001b[0m\u001b[0m\n\u001b[0;32m----> 4\u001b[0;31m \u001b[0mN4\u001b[0m\u001b[0;34m=\u001b[0m\u001b[0mfind_networks\u001b[0m\u001b[0;34m(\u001b[0m\u001b[0;34m[\u001b[0m\u001b[0;34m'1'\u001b[0m\u001b[0;34m,\u001b[0m\u001b[0;34m'2'\u001b[0m\u001b[0;34m,\u001b[0m\u001b[0;34m'3'\u001b[0m\u001b[0;34m,\u001b[0m\u001b[0;34m'4'\u001b[0m\u001b[0;34m]\u001b[0m\u001b[0;34m)\u001b[0m\u001b[0;34m\u001b[0m\u001b[0;34m\u001b[0m\u001b[0m\n\u001b[0m",
      "\u001b[0;32m<ipython-input-159-ae64b4293b21>\u001b[0m in \u001b[0;36mfind_networks\u001b[0;34m(taxa)\u001b[0m\n\u001b[1;32m      4\u001b[0m     \u001b[0mnets\u001b[0m \u001b[0;34m=\u001b[0m \u001b[0;34m[\u001b[0m\u001b[0;34m]\u001b[0m\u001b[0;34m\u001b[0m\u001b[0;34m\u001b[0m\u001b[0m\n\u001b[1;32m      5\u001b[0m     \u001b[0;32mfor\u001b[0m \u001b[0mnet\u001b[0m \u001b[0;32min\u001b[0m \u001b[0mfind_networks\u001b[0m\u001b[0;34m(\u001b[0m\u001b[0mtaxa\u001b[0m\u001b[0;34m[\u001b[0m\u001b[0;34m:\u001b[0m\u001b[0;34m-\u001b[0m\u001b[0;36m1\u001b[0m\u001b[0;34m]\u001b[0m\u001b[0;34m)\u001b[0m\u001b[0;34m:\u001b[0m\u001b[0;34m\u001b[0m\u001b[0;34m\u001b[0m\u001b[0m\n\u001b[0;32m----> 6\u001b[0;31m         \u001b[0mnets\u001b[0m\u001b[0;34m.\u001b[0m\u001b[0mextend\u001b[0m\u001b[0;34m(\u001b[0m\u001b[0mfind_augmentations\u001b[0m\u001b[0;34m(\u001b[0m\u001b[0mnet\u001b[0m\u001b[0;34m,\u001b[0m\u001b[0mtaxa\u001b[0m\u001b[0;34m[\u001b[0m\u001b[0;34m-\u001b[0m\u001b[0;36m1\u001b[0m\u001b[0;34m]\u001b[0m\u001b[0;34m)\u001b[0m\u001b[0;34m)\u001b[0m\u001b[0;34m\u001b[0m\u001b[0;34m\u001b[0m\u001b[0m\n\u001b[0m\u001b[1;32m      7\u001b[0m         \u001b[0mprint\u001b[0m\u001b[0;34m(\u001b[0m\u001b[0mlen\u001b[0m\u001b[0;34m(\u001b[0m\u001b[0mnets\u001b[0m\u001b[0;34m)\u001b[0m\u001b[0;34m)\u001b[0m\u001b[0;34m\u001b[0m\u001b[0;34m\u001b[0m\u001b[0m\n\u001b[1;32m      8\u001b[0m     \u001b[0;32mreturn\u001b[0m \u001b[0mnets\u001b[0m\u001b[0;34m\u001b[0m\u001b[0;34m\u001b[0m\u001b[0m\n",
      "\u001b[0;32m<ipython-input-161-216b2ad9835b>\u001b[0m in \u001b[0;36mfind_augmentations\u001b[0;34m(net, ell)\u001b[0m\n\u001b[1;32m      6\u001b[0m     \u001b[0;32mfor\u001b[0m \u001b[0mr\u001b[0m \u001b[0;32min\u001b[0m \u001b[0mrange\u001b[0m\u001b[0;34m(\u001b[0m\u001b[0mnum_tree_nodes\u001b[0m\u001b[0;34m+\u001b[0m\u001b[0;36m1\u001b[0m\u001b[0;34m)\u001b[0m\u001b[0;34m:\u001b[0m\u001b[0;34m\u001b[0m\u001b[0;34m\u001b[0m\u001b[0m\n\u001b[1;32m      7\u001b[0m         \u001b[0;32mfor\u001b[0m \u001b[0;34m(\u001b[0m\u001b[0mwt\u001b[0m\u001b[0;34m,\u001b[0m\u001b[0mvts\u001b[0m\u001b[0;34m)\u001b[0m \u001b[0;32min\u001b[0m \u001b[0mproduct\u001b[0m\u001b[0;34m(\u001b[0m\u001b[0mtree_nodes\u001b[0m\u001b[0;34m,\u001b[0m\u001b[0mpermutations\u001b[0m\u001b[0;34m(\u001b[0m\u001b[0mtree_nodes\u001b[0m\u001b[0;34m,\u001b[0m\u001b[0mr\u001b[0m\u001b[0;34m)\u001b[0m\u001b[0;34m)\u001b[0m\u001b[0;34m:\u001b[0m\u001b[0;34m\u001b[0m\u001b[0;34m\u001b[0m\u001b[0m\n\u001b[0;32m----> 8\u001b[0;31m             \u001b[0mnetb\u001b[0m \u001b[0;34m=\u001b[0m \u001b[0maugmentation_T\u001b[0m\u001b[0;34m(\u001b[0m\u001b[0mnet\u001b[0m\u001b[0;34m,\u001b[0m\u001b[0mell\u001b[0m\u001b[0;34m,\u001b[0m\u001b[0mwt\u001b[0m\u001b[0;34m,\u001b[0m\u001b[0mvts\u001b[0m\u001b[0;34m)\u001b[0m\u001b[0;34m\u001b[0m\u001b[0;34m\u001b[0m\u001b[0m\n\u001b[0m\u001b[1;32m      9\u001b[0m             \u001b[0;32mif\u001b[0m \u001b[0mnetb\u001b[0m\u001b[0;34m:\u001b[0m\u001b[0;34m\u001b[0m\u001b[0;34m\u001b[0m\u001b[0m\n\u001b[1;32m     10\u001b[0m                 \u001b[0;31m# print(wt,vts)\u001b[0m\u001b[0;34m\u001b[0m\u001b[0;34m\u001b[0m\u001b[0;34m\u001b[0m\u001b[0m\n",
      "\u001b[0;32m<ipython-input-34-5579c567ce9f>\u001b[0m in \u001b[0;36maugmentation_T\u001b[0;34m(net, ell, wt, vts)\u001b[0m\n\u001b[1;32m      1\u001b[0m \u001b[0;32mdef\u001b[0m \u001b[0maugmentation_T\u001b[0m\u001b[0;34m(\u001b[0m\u001b[0mnet\u001b[0m\u001b[0;34m,\u001b[0m\u001b[0mell\u001b[0m\u001b[0;34m,\u001b[0m\u001b[0mwt\u001b[0m\u001b[0;34m,\u001b[0m\u001b[0mvts\u001b[0m\u001b[0;34m)\u001b[0m\u001b[0;34m:\u001b[0m\u001b[0;34m\u001b[0m\u001b[0;34m\u001b[0m\u001b[0m\n\u001b[0;32m----> 2\u001b[0;31m     \u001b[0mnetb\u001b[0m \u001b[0;34m=\u001b[0m \u001b[0mnet\u001b[0m\u001b[0;34m.\u001b[0m\u001b[0mcopy\u001b[0m\u001b[0;34m(\u001b[0m\u001b[0;34m)\u001b[0m\u001b[0;34m\u001b[0m\u001b[0;34m\u001b[0m\u001b[0m\n\u001b[0m\u001b[1;32m      3\u001b[0m     \u001b[0mnetb\u001b[0m\u001b[0;34m.\u001b[0m\u001b[0mcache\u001b[0m \u001b[0;34m=\u001b[0m \u001b[0;34m{\u001b[0m\u001b[0;34m}\u001b[0m\u001b[0;34m\u001b[0m\u001b[0;34m\u001b[0m\u001b[0m\n\u001b[1;32m      4\u001b[0m     \u001b[0mr\u001b[0m \u001b[0;34m=\u001b[0m \u001b[0mlen\u001b[0m\u001b[0;34m(\u001b[0m\u001b[0mvts\u001b[0m\u001b[0;34m)\u001b[0m \u001b[0;34m+\u001b[0m \u001b[0;36m1\u001b[0m\u001b[0;34m\u001b[0m\u001b[0;34m\u001b[0m\u001b[0m\n\u001b[1;32m      5\u001b[0m     \u001b[0mus\u001b[0m \u001b[0;34m=\u001b[0m \u001b[0;34m[\u001b[0m\u001b[0mnetb\u001b[0m\u001b[0;34m.\u001b[0m\u001b[0m_generate_new_id\u001b[0m\u001b[0;34m(\u001b[0m\u001b[0;34m)\u001b[0m \u001b[0;32mfor\u001b[0m \u001b[0m_\u001b[0m \u001b[0;32min\u001b[0m \u001b[0mrange\u001b[0m\u001b[0;34m(\u001b[0m\u001b[0mr\u001b[0m\u001b[0;34m)\u001b[0m\u001b[0;34m]\u001b[0m\u001b[0;34m\u001b[0m\u001b[0;34m\u001b[0m\u001b[0m\n",
      "\u001b[0;32m~/.local/share/virtualenvs/scripts-z_yBTKWJ/lib/python3.7/site-packages/networkx/classes/graph.py\u001b[0m in \u001b[0;36mcopy\u001b[0;34m(self)\u001b[0m\n\u001b[1;32m   1446\u001b[0m \u001b[0;34m\u001b[0m\u001b[0m\n\u001b[1;32m   1447\u001b[0m         \"\"\"\n\u001b[0;32m-> 1448\u001b[0;31m         \u001b[0;32mreturn\u001b[0m \u001b[0mdeepcopy\u001b[0m\u001b[0;34m(\u001b[0m\u001b[0mself\u001b[0m\u001b[0;34m)\u001b[0m\u001b[0;34m\u001b[0m\u001b[0;34m\u001b[0m\u001b[0m\n\u001b[0m\u001b[1;32m   1449\u001b[0m \u001b[0;34m\u001b[0m\u001b[0m\n\u001b[1;32m   1450\u001b[0m     \u001b[0;32mdef\u001b[0m \u001b[0mis_multigraph\u001b[0m\u001b[0;34m(\u001b[0m\u001b[0mself\u001b[0m\u001b[0;34m)\u001b[0m\u001b[0;34m:\u001b[0m\u001b[0;34m\u001b[0m\u001b[0;34m\u001b[0m\u001b[0m\n",
      "\u001b[0;32m~/.local/share/virtualenvs/scripts-z_yBTKWJ/lib/python3.7/copy.py\u001b[0m in \u001b[0;36mdeepcopy\u001b[0;34m(x, memo, _nil)\u001b[0m\n\u001b[1;32m    178\u001b[0m                     \u001b[0my\u001b[0m \u001b[0;34m=\u001b[0m \u001b[0mx\u001b[0m\u001b[0;34m\u001b[0m\u001b[0;34m\u001b[0m\u001b[0m\n\u001b[1;32m    179\u001b[0m                 \u001b[0;32melse\u001b[0m\u001b[0;34m:\u001b[0m\u001b[0;34m\u001b[0m\u001b[0;34m\u001b[0m\u001b[0m\n\u001b[0;32m--> 180\u001b[0;31m                     \u001b[0my\u001b[0m \u001b[0;34m=\u001b[0m \u001b[0m_reconstruct\u001b[0m\u001b[0;34m(\u001b[0m\u001b[0mx\u001b[0m\u001b[0;34m,\u001b[0m \u001b[0mmemo\u001b[0m\u001b[0;34m,\u001b[0m \u001b[0;34m*\u001b[0m\u001b[0mrv\u001b[0m\u001b[0;34m)\u001b[0m\u001b[0;34m\u001b[0m\u001b[0;34m\u001b[0m\u001b[0m\n\u001b[0m\u001b[1;32m    181\u001b[0m \u001b[0;34m\u001b[0m\u001b[0m\n\u001b[1;32m    182\u001b[0m     \u001b[0;31m# If is its own copy, don't memoize.\u001b[0m\u001b[0;34m\u001b[0m\u001b[0;34m\u001b[0m\u001b[0;34m\u001b[0m\u001b[0m\n",
      "\u001b[0;32m~/.local/share/virtualenvs/scripts-z_yBTKWJ/lib/python3.7/copy.py\u001b[0m in \u001b[0;36m_reconstruct\u001b[0;34m(x, memo, func, args, state, listiter, dictiter, deepcopy)\u001b[0m\n\u001b[1;32m    278\u001b[0m     \u001b[0;32mif\u001b[0m \u001b[0mstate\u001b[0m \u001b[0;32mis\u001b[0m \u001b[0;32mnot\u001b[0m \u001b[0;32mNone\u001b[0m\u001b[0;34m:\u001b[0m\u001b[0;34m\u001b[0m\u001b[0;34m\u001b[0m\u001b[0m\n\u001b[1;32m    279\u001b[0m         \u001b[0;32mif\u001b[0m \u001b[0mdeep\u001b[0m\u001b[0;34m:\u001b[0m\u001b[0;34m\u001b[0m\u001b[0;34m\u001b[0m\u001b[0m\n\u001b[0;32m--> 280\u001b[0;31m             \u001b[0mstate\u001b[0m \u001b[0;34m=\u001b[0m \u001b[0mdeepcopy\u001b[0m\u001b[0;34m(\u001b[0m\u001b[0mstate\u001b[0m\u001b[0;34m,\u001b[0m \u001b[0mmemo\u001b[0m\u001b[0;34m)\u001b[0m\u001b[0;34m\u001b[0m\u001b[0;34m\u001b[0m\u001b[0m\n\u001b[0m\u001b[1;32m    281\u001b[0m         \u001b[0;32mif\u001b[0m \u001b[0mhasattr\u001b[0m\u001b[0;34m(\u001b[0m\u001b[0my\u001b[0m\u001b[0;34m,\u001b[0m \u001b[0;34m'__setstate__'\u001b[0m\u001b[0;34m)\u001b[0m\u001b[0;34m:\u001b[0m\u001b[0;34m\u001b[0m\u001b[0;34m\u001b[0m\u001b[0m\n\u001b[1;32m    282\u001b[0m             \u001b[0my\u001b[0m\u001b[0;34m.\u001b[0m\u001b[0m__setstate__\u001b[0m\u001b[0;34m(\u001b[0m\u001b[0mstate\u001b[0m\u001b[0;34m)\u001b[0m\u001b[0;34m\u001b[0m\u001b[0;34m\u001b[0m\u001b[0m\n",
      "\u001b[0;32m~/.local/share/virtualenvs/scripts-z_yBTKWJ/lib/python3.7/copy.py\u001b[0m in \u001b[0;36mdeepcopy\u001b[0;34m(x, memo, _nil)\u001b[0m\n\u001b[1;32m    148\u001b[0m     \u001b[0mcopier\u001b[0m \u001b[0;34m=\u001b[0m \u001b[0m_deepcopy_dispatch\u001b[0m\u001b[0;34m.\u001b[0m\u001b[0mget\u001b[0m\u001b[0;34m(\u001b[0m\u001b[0mcls\u001b[0m\u001b[0;34m)\u001b[0m\u001b[0;34m\u001b[0m\u001b[0;34m\u001b[0m\u001b[0m\n\u001b[1;32m    149\u001b[0m     \u001b[0;32mif\u001b[0m \u001b[0mcopier\u001b[0m\u001b[0;34m:\u001b[0m\u001b[0;34m\u001b[0m\u001b[0;34m\u001b[0m\u001b[0m\n\u001b[0;32m--> 150\u001b[0;31m         \u001b[0my\u001b[0m \u001b[0;34m=\u001b[0m \u001b[0mcopier\u001b[0m\u001b[0;34m(\u001b[0m\u001b[0mx\u001b[0m\u001b[0;34m,\u001b[0m \u001b[0mmemo\u001b[0m\u001b[0;34m)\u001b[0m\u001b[0;34m\u001b[0m\u001b[0;34m\u001b[0m\u001b[0m\n\u001b[0m\u001b[1;32m    151\u001b[0m     \u001b[0;32melse\u001b[0m\u001b[0;34m:\u001b[0m\u001b[0;34m\u001b[0m\u001b[0;34m\u001b[0m\u001b[0m\n\u001b[1;32m    152\u001b[0m         \u001b[0;32mtry\u001b[0m\u001b[0;34m:\u001b[0m\u001b[0;34m\u001b[0m\u001b[0;34m\u001b[0m\u001b[0m\n",
      "\u001b[0;32m~/.local/share/virtualenvs/scripts-z_yBTKWJ/lib/python3.7/copy.py\u001b[0m in \u001b[0;36m_deepcopy_dict\u001b[0;34m(x, memo, deepcopy)\u001b[0m\n\u001b[1;32m    238\u001b[0m     \u001b[0mmemo\u001b[0m\u001b[0;34m[\u001b[0m\u001b[0mid\u001b[0m\u001b[0;34m(\u001b[0m\u001b[0mx\u001b[0m\u001b[0;34m)\u001b[0m\u001b[0;34m]\u001b[0m \u001b[0;34m=\u001b[0m \u001b[0my\u001b[0m\u001b[0;34m\u001b[0m\u001b[0;34m\u001b[0m\u001b[0m\n\u001b[1;32m    239\u001b[0m     \u001b[0;32mfor\u001b[0m \u001b[0mkey\u001b[0m\u001b[0;34m,\u001b[0m \u001b[0mvalue\u001b[0m \u001b[0;32min\u001b[0m \u001b[0mx\u001b[0m\u001b[0;34m.\u001b[0m\u001b[0mitems\u001b[0m\u001b[0;34m(\u001b[0m\u001b[0;34m)\u001b[0m\u001b[0;34m:\u001b[0m\u001b[0;34m\u001b[0m\u001b[0;34m\u001b[0m\u001b[0m\n\u001b[0;32m--> 240\u001b[0;31m         \u001b[0my\u001b[0m\u001b[0;34m[\u001b[0m\u001b[0mdeepcopy\u001b[0m\u001b[0;34m(\u001b[0m\u001b[0mkey\u001b[0m\u001b[0;34m,\u001b[0m \u001b[0mmemo\u001b[0m\u001b[0;34m)\u001b[0m\u001b[0;34m]\u001b[0m \u001b[0;34m=\u001b[0m \u001b[0mdeepcopy\u001b[0m\u001b[0;34m(\u001b[0m\u001b[0mvalue\u001b[0m\u001b[0;34m,\u001b[0m \u001b[0mmemo\u001b[0m\u001b[0;34m)\u001b[0m\u001b[0;34m\u001b[0m\u001b[0;34m\u001b[0m\u001b[0m\n\u001b[0m\u001b[1;32m    241\u001b[0m     \u001b[0;32mreturn\u001b[0m \u001b[0my\u001b[0m\u001b[0;34m\u001b[0m\u001b[0;34m\u001b[0m\u001b[0m\n\u001b[1;32m    242\u001b[0m \u001b[0md\u001b[0m\u001b[0;34m[\u001b[0m\u001b[0mdict\u001b[0m\u001b[0;34m]\u001b[0m \u001b[0;34m=\u001b[0m \u001b[0m_deepcopy_dict\u001b[0m\u001b[0;34m\u001b[0m\u001b[0;34m\u001b[0m\u001b[0m\n",
      "\u001b[0;32m~/.local/share/virtualenvs/scripts-z_yBTKWJ/lib/python3.7/copy.py\u001b[0m in \u001b[0;36mdeepcopy\u001b[0;34m(x, memo, _nil)\u001b[0m\n\u001b[1;32m    148\u001b[0m     \u001b[0mcopier\u001b[0m \u001b[0;34m=\u001b[0m \u001b[0m_deepcopy_dispatch\u001b[0m\u001b[0;34m.\u001b[0m\u001b[0mget\u001b[0m\u001b[0;34m(\u001b[0m\u001b[0mcls\u001b[0m\u001b[0;34m)\u001b[0m\u001b[0;34m\u001b[0m\u001b[0;34m\u001b[0m\u001b[0m\n\u001b[1;32m    149\u001b[0m     \u001b[0;32mif\u001b[0m \u001b[0mcopier\u001b[0m\u001b[0;34m:\u001b[0m\u001b[0;34m\u001b[0m\u001b[0;34m\u001b[0m\u001b[0m\n\u001b[0;32m--> 150\u001b[0;31m         \u001b[0my\u001b[0m \u001b[0;34m=\u001b[0m \u001b[0mcopier\u001b[0m\u001b[0;34m(\u001b[0m\u001b[0mx\u001b[0m\u001b[0;34m,\u001b[0m \u001b[0mmemo\u001b[0m\u001b[0;34m)\u001b[0m\u001b[0;34m\u001b[0m\u001b[0;34m\u001b[0m\u001b[0m\n\u001b[0m\u001b[1;32m    151\u001b[0m     \u001b[0;32melse\u001b[0m\u001b[0;34m:\u001b[0m\u001b[0;34m\u001b[0m\u001b[0;34m\u001b[0m\u001b[0m\n\u001b[1;32m    152\u001b[0m         \u001b[0;32mtry\u001b[0m\u001b[0;34m:\u001b[0m\u001b[0;34m\u001b[0m\u001b[0;34m\u001b[0m\u001b[0m\n",
      "\u001b[0;32m~/.local/share/virtualenvs/scripts-z_yBTKWJ/lib/python3.7/copy.py\u001b[0m in \u001b[0;36m_deepcopy_dict\u001b[0;34m(x, memo, deepcopy)\u001b[0m\n\u001b[1;32m    238\u001b[0m     \u001b[0mmemo\u001b[0m\u001b[0;34m[\u001b[0m\u001b[0mid\u001b[0m\u001b[0;34m(\u001b[0m\u001b[0mx\u001b[0m\u001b[0;34m)\u001b[0m\u001b[0;34m]\u001b[0m \u001b[0;34m=\u001b[0m \u001b[0my\u001b[0m\u001b[0;34m\u001b[0m\u001b[0;34m\u001b[0m\u001b[0m\n\u001b[1;32m    239\u001b[0m     \u001b[0;32mfor\u001b[0m \u001b[0mkey\u001b[0m\u001b[0;34m,\u001b[0m \u001b[0mvalue\u001b[0m \u001b[0;32min\u001b[0m \u001b[0mx\u001b[0m\u001b[0;34m.\u001b[0m\u001b[0mitems\u001b[0m\u001b[0;34m(\u001b[0m\u001b[0;34m)\u001b[0m\u001b[0;34m:\u001b[0m\u001b[0;34m\u001b[0m\u001b[0;34m\u001b[0m\u001b[0m\n\u001b[0;32m--> 240\u001b[0;31m         \u001b[0my\u001b[0m\u001b[0;34m[\u001b[0m\u001b[0mdeepcopy\u001b[0m\u001b[0;34m(\u001b[0m\u001b[0mkey\u001b[0m\u001b[0;34m,\u001b[0m \u001b[0mmemo\u001b[0m\u001b[0;34m)\u001b[0m\u001b[0;34m]\u001b[0m \u001b[0;34m=\u001b[0m \u001b[0mdeepcopy\u001b[0m\u001b[0;34m(\u001b[0m\u001b[0mvalue\u001b[0m\u001b[0;34m,\u001b[0m \u001b[0mmemo\u001b[0m\u001b[0;34m)\u001b[0m\u001b[0;34m\u001b[0m\u001b[0;34m\u001b[0m\u001b[0m\n\u001b[0m\u001b[1;32m    241\u001b[0m     \u001b[0;32mreturn\u001b[0m \u001b[0my\u001b[0m\u001b[0;34m\u001b[0m\u001b[0;34m\u001b[0m\u001b[0m\n\u001b[1;32m    242\u001b[0m \u001b[0md\u001b[0m\u001b[0;34m[\u001b[0m\u001b[0mdict\u001b[0m\u001b[0;34m]\u001b[0m \u001b[0;34m=\u001b[0m \u001b[0m_deepcopy_dict\u001b[0m\u001b[0;34m\u001b[0m\u001b[0;34m\u001b[0m\u001b[0m\n",
      "\u001b[0;32m~/.local/share/virtualenvs/scripts-z_yBTKWJ/lib/python3.7/copy.py\u001b[0m in \u001b[0;36mdeepcopy\u001b[0;34m(x, memo, _nil)\u001b[0m\n\u001b[1;32m    148\u001b[0m     \u001b[0mcopier\u001b[0m \u001b[0;34m=\u001b[0m \u001b[0m_deepcopy_dispatch\u001b[0m\u001b[0;34m.\u001b[0m\u001b[0mget\u001b[0m\u001b[0;34m(\u001b[0m\u001b[0mcls\u001b[0m\u001b[0;34m)\u001b[0m\u001b[0;34m\u001b[0m\u001b[0;34m\u001b[0m\u001b[0m\n\u001b[1;32m    149\u001b[0m     \u001b[0;32mif\u001b[0m \u001b[0mcopier\u001b[0m\u001b[0;34m:\u001b[0m\u001b[0;34m\u001b[0m\u001b[0;34m\u001b[0m\u001b[0m\n\u001b[0;32m--> 150\u001b[0;31m         \u001b[0my\u001b[0m \u001b[0;34m=\u001b[0m \u001b[0mcopier\u001b[0m\u001b[0;34m(\u001b[0m\u001b[0mx\u001b[0m\u001b[0;34m,\u001b[0m \u001b[0mmemo\u001b[0m\u001b[0;34m)\u001b[0m\u001b[0;34m\u001b[0m\u001b[0;34m\u001b[0m\u001b[0m\n\u001b[0m\u001b[1;32m    151\u001b[0m     \u001b[0;32melse\u001b[0m\u001b[0;34m:\u001b[0m\u001b[0;34m\u001b[0m\u001b[0;34m\u001b[0m\u001b[0m\n\u001b[1;32m    152\u001b[0m         \u001b[0;32mtry\u001b[0m\u001b[0;34m:\u001b[0m\u001b[0;34m\u001b[0m\u001b[0;34m\u001b[0m\u001b[0m\n",
      "\u001b[0;32m~/.local/share/virtualenvs/scripts-z_yBTKWJ/lib/python3.7/copy.py\u001b[0m in \u001b[0;36m_deepcopy_dict\u001b[0;34m(x, memo, deepcopy)\u001b[0m\n\u001b[1;32m    238\u001b[0m     \u001b[0mmemo\u001b[0m\u001b[0;34m[\u001b[0m\u001b[0mid\u001b[0m\u001b[0;34m(\u001b[0m\u001b[0mx\u001b[0m\u001b[0;34m)\u001b[0m\u001b[0;34m]\u001b[0m \u001b[0;34m=\u001b[0m \u001b[0my\u001b[0m\u001b[0;34m\u001b[0m\u001b[0;34m\u001b[0m\u001b[0m\n\u001b[1;32m    239\u001b[0m     \u001b[0;32mfor\u001b[0m \u001b[0mkey\u001b[0m\u001b[0;34m,\u001b[0m \u001b[0mvalue\u001b[0m \u001b[0;32min\u001b[0m \u001b[0mx\u001b[0m\u001b[0;34m.\u001b[0m\u001b[0mitems\u001b[0m\u001b[0;34m(\u001b[0m\u001b[0;34m)\u001b[0m\u001b[0;34m:\u001b[0m\u001b[0;34m\u001b[0m\u001b[0;34m\u001b[0m\u001b[0m\n\u001b[0;32m--> 240\u001b[0;31m         \u001b[0my\u001b[0m\u001b[0;34m[\u001b[0m\u001b[0mdeepcopy\u001b[0m\u001b[0;34m(\u001b[0m\u001b[0mkey\u001b[0m\u001b[0;34m,\u001b[0m \u001b[0mmemo\u001b[0m\u001b[0;34m)\u001b[0m\u001b[0;34m]\u001b[0m \u001b[0;34m=\u001b[0m \u001b[0mdeepcopy\u001b[0m\u001b[0;34m(\u001b[0m\u001b[0mvalue\u001b[0m\u001b[0;34m,\u001b[0m \u001b[0mmemo\u001b[0m\u001b[0;34m)\u001b[0m\u001b[0;34m\u001b[0m\u001b[0;34m\u001b[0m\u001b[0m\n\u001b[0m\u001b[1;32m    241\u001b[0m     \u001b[0;32mreturn\u001b[0m \u001b[0my\u001b[0m\u001b[0;34m\u001b[0m\u001b[0;34m\u001b[0m\u001b[0m\n\u001b[1;32m    242\u001b[0m \u001b[0md\u001b[0m\u001b[0;34m[\u001b[0m\u001b[0mdict\u001b[0m\u001b[0;34m]\u001b[0m \u001b[0;34m=\u001b[0m \u001b[0m_deepcopy_dict\u001b[0m\u001b[0;34m\u001b[0m\u001b[0;34m\u001b[0m\u001b[0m\n",
      "\u001b[0;32m~/.local/share/virtualenvs/scripts-z_yBTKWJ/lib/python3.7/copy.py\u001b[0m in \u001b[0;36mdeepcopy\u001b[0;34m(x, memo, _nil)\u001b[0m\n\u001b[1;32m    148\u001b[0m     \u001b[0mcopier\u001b[0m \u001b[0;34m=\u001b[0m \u001b[0m_deepcopy_dispatch\u001b[0m\u001b[0;34m.\u001b[0m\u001b[0mget\u001b[0m\u001b[0;34m(\u001b[0m\u001b[0mcls\u001b[0m\u001b[0;34m)\u001b[0m\u001b[0;34m\u001b[0m\u001b[0;34m\u001b[0m\u001b[0m\n\u001b[1;32m    149\u001b[0m     \u001b[0;32mif\u001b[0m \u001b[0mcopier\u001b[0m\u001b[0;34m:\u001b[0m\u001b[0;34m\u001b[0m\u001b[0;34m\u001b[0m\u001b[0m\n\u001b[0;32m--> 150\u001b[0;31m         \u001b[0my\u001b[0m \u001b[0;34m=\u001b[0m \u001b[0mcopier\u001b[0m\u001b[0;34m(\u001b[0m\u001b[0mx\u001b[0m\u001b[0;34m,\u001b[0m \u001b[0mmemo\u001b[0m\u001b[0;34m)\u001b[0m\u001b[0;34m\u001b[0m\u001b[0;34m\u001b[0m\u001b[0m\n\u001b[0m\u001b[1;32m    151\u001b[0m     \u001b[0;32melse\u001b[0m\u001b[0;34m:\u001b[0m\u001b[0;34m\u001b[0m\u001b[0;34m\u001b[0m\u001b[0m\n\u001b[1;32m    152\u001b[0m         \u001b[0;32mtry\u001b[0m\u001b[0;34m:\u001b[0m\u001b[0;34m\u001b[0m\u001b[0;34m\u001b[0m\u001b[0m\n",
      "\u001b[0;32m~/.local/share/virtualenvs/scripts-z_yBTKWJ/lib/python3.7/copy.py\u001b[0m in \u001b[0;36m_deepcopy_dict\u001b[0;34m(x, memo, deepcopy)\u001b[0m\n\u001b[1;32m    237\u001b[0m     \u001b[0my\u001b[0m \u001b[0;34m=\u001b[0m \u001b[0;34m{\u001b[0m\u001b[0;34m}\u001b[0m\u001b[0;34m\u001b[0m\u001b[0;34m\u001b[0m\u001b[0m\n\u001b[1;32m    238\u001b[0m     \u001b[0mmemo\u001b[0m\u001b[0;34m[\u001b[0m\u001b[0mid\u001b[0m\u001b[0;34m(\u001b[0m\u001b[0mx\u001b[0m\u001b[0;34m)\u001b[0m\u001b[0;34m]\u001b[0m \u001b[0;34m=\u001b[0m \u001b[0my\u001b[0m\u001b[0;34m\u001b[0m\u001b[0;34m\u001b[0m\u001b[0m\n\u001b[0;32m--> 239\u001b[0;31m     \u001b[0;32mfor\u001b[0m \u001b[0mkey\u001b[0m\u001b[0;34m,\u001b[0m \u001b[0mvalue\u001b[0m \u001b[0;32min\u001b[0m \u001b[0mx\u001b[0m\u001b[0;34m.\u001b[0m\u001b[0mitems\u001b[0m\u001b[0;34m(\u001b[0m\u001b[0;34m)\u001b[0m\u001b[0;34m:\u001b[0m\u001b[0;34m\u001b[0m\u001b[0;34m\u001b[0m\u001b[0m\n\u001b[0m\u001b[1;32m    240\u001b[0m         \u001b[0my\u001b[0m\u001b[0;34m[\u001b[0m\u001b[0mdeepcopy\u001b[0m\u001b[0;34m(\u001b[0m\u001b[0mkey\u001b[0m\u001b[0;34m,\u001b[0m \u001b[0mmemo\u001b[0m\u001b[0;34m)\u001b[0m\u001b[0;34m]\u001b[0m \u001b[0;34m=\u001b[0m \u001b[0mdeepcopy\u001b[0m\u001b[0;34m(\u001b[0m\u001b[0mvalue\u001b[0m\u001b[0;34m,\u001b[0m \u001b[0mmemo\u001b[0m\u001b[0;34m)\u001b[0m\u001b[0;34m\u001b[0m\u001b[0;34m\u001b[0m\u001b[0m\n\u001b[1;32m    241\u001b[0m     \u001b[0;32mreturn\u001b[0m \u001b[0my\u001b[0m\u001b[0;34m\u001b[0m\u001b[0;34m\u001b[0m\u001b[0m\n",
      "\u001b[0;31mKeyboardInterrupt\u001b[0m: "
     ]
    }
   ],
   "source": [
    "N1=find_networks(['1'])\n",
    "N2=find_networks(['1','2'])\n",
    "N3=find_networks(['1','2','3'])\n",
    "N4=find_networks(['1','2','3','4'])"
   ]
  },
  {
   "cell_type": "code",
   "execution_count": 128,
   "metadata": {},
   "outputs": [
    {
     "data": {
      "text/plain": [
       "333"
      ]
     },
     "execution_count": 128,
     "metadata": {},
     "output_type": "execute_result"
    }
   ],
   "source": [
    "len(N1)\n",
    "len(N2)\n",
    "len(N3)"
   ]
  },
  {
   "cell_type": "code",
   "execution_count": 158,
   "metadata": {},
   "outputs": [
    {
     "name": "stdout",
     "output_type": "stream",
     "text": [
      "1\n",
      "3\n",
      "300\n"
     ]
    },
    {
     "ename": "NameError",
     "evalue": "name 'N4' is not defined",
     "output_type": "error",
     "traceback": [
      "\u001b[0;31m---------------------------------------------------------------------------\u001b[0m",
      "\u001b[0;31mNameError\u001b[0m                                 Traceback (most recent call last)",
      "\u001b[0;32m<ipython-input-158-ac876e11a09a>\u001b[0m in \u001b[0;36m<module>\u001b[0;34m\u001b[0m\n\u001b[1;32m      2\u001b[0m \u001b[0mprint\u001b[0m\u001b[0;34m(\u001b[0m\u001b[0mlen\u001b[0m\u001b[0;34m(\u001b[0m\u001b[0mN2\u001b[0m\u001b[0;34m)\u001b[0m\u001b[0;34m)\u001b[0m\u001b[0;34m\u001b[0m\u001b[0;34m\u001b[0m\u001b[0m\n\u001b[1;32m      3\u001b[0m \u001b[0mprint\u001b[0m\u001b[0;34m(\u001b[0m\u001b[0mlen\u001b[0m\u001b[0;34m(\u001b[0m\u001b[0mN3\u001b[0m\u001b[0;34m)\u001b[0m\u001b[0;34m)\u001b[0m\u001b[0;34m\u001b[0m\u001b[0;34m\u001b[0m\u001b[0m\n\u001b[0;32m----> 4\u001b[0;31m \u001b[0mprint\u001b[0m\u001b[0;34m(\u001b[0m\u001b[0mlen\u001b[0m\u001b[0;34m(\u001b[0m\u001b[0mN4\u001b[0m\u001b[0;34m)\u001b[0m\u001b[0;34m)\u001b[0m\u001b[0;34m\u001b[0m\u001b[0;34m\u001b[0m\u001b[0m\n\u001b[0m",
      "\u001b[0;31mNameError\u001b[0m: name 'N4' is not defined"
     ]
    }
   ],
   "source": [
    "print(len(N1))\n",
    "print(len(N2))\n",
    "print(len(N3))\n",
    "print(len(N4))"
   ]
  },
  {
   "cell_type": "code",
   "execution_count": 151,
   "metadata": {},
   "outputs": [
    {
     "data": {
      "image/png": "[encoded data removed]",
      "text/plain": [
       "<matplotlib.figure.Figure at 0x2819d8a90>"
      ]
     },
     "metadata": {
      "needs_background": "light"
     },
     "output_type": "display_data"
    }
   ],
   "source": [
    "draw(N3[8])"
   ]
  },
  {
   "cell_type": "code",
   "execution_count": 152,
   "metadata": {},
   "outputs": [
    {
     "data": {
      "image/png": "[encoded data removed]",
      "text/plain": [
       "<matplotlib.figure.Figure at 0x281b07518>"
      ]
     },
     "metadata": {
      "needs_background": "light"
     },
     "output_type": "display_data"
    }
   ],
   "source": [
    "draw(N3[6])"
   ]
  },
  {
   "cell_type": "code",
   "execution_count": null,
   "metadata": {},
   "outputs": [],
   "source": []
  }
 ],
 "metadata": {
  "kernelspec": {
   "display_name": "Python 3",
   "language": "python",
   "name": "python3"
  },
  "language_info": {
   "codemirror_mode": {
    "name": "ipython",
    "version": 3
   },
   "file_extension": ".py",
   "mimetype": "text/x-python",
   "name": "python",
   "nbconvert_exporter": "python",
   "pygments_lexer": "ipython3",
   "version": "3.7.1"
  }
 },
 "nbformat": 4,
 "nbformat_minor": 2
}
